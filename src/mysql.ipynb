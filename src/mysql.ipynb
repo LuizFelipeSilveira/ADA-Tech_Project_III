{
 "cells": [
  {
   "cell_type": "code",
   "execution_count": 1,
   "metadata": {},
   "outputs": [],
   "source": [
    "import pymysql\n",
    "import pandas as pd\n",
    "\n",
    "import warnings"
   ]
  },
  {
   "cell_type": "code",
   "execution_count": 2,
   "metadata": {},
   "outputs": [],
   "source": [
    "warnings.filterwarnings('ignore')"
   ]
  },
  {
   "cell_type": "code",
   "execution_count": 3,
   "metadata": {},
   "outputs": [
    {
     "name": "stdout",
     "output_type": "stream",
     "text": [
      "Conexão feita com sucesso!\n"
     ]
    }
   ],
   "source": [
    "try:\n",
    "    connection = pymysql.connect(user='admin',\n",
    "                                 host='database-1.cjocas8y2rhl.us-east-1.rds.amazonaws.com',\n",
    "                                 port=3306,\n",
    "                                 password='Uukkmskp1!#',\n",
    "                                 database='grupo_05'\n",
    "                                 )\n",
    "    print('Conexão feita com sucesso!')\n",
    "except Exception as erro:\n",
    "    print(f'Erro: {erro} - Falha na conexão')"
   ]
  },
  {
   "cell_type": "code",
   "execution_count": null,
   "metadata": {},
   "outputs": [],
   "source": [
    "sql = 'show tables'\n",
    "\n",
    "df = pd.read_csv('../data/clientes_genericos.csv')\n"
   ]
  },
  {
   "cell_type": "code",
   "execution_count": null,
   "metadata": {},
   "outputs": [],
   "source": [
    "db = pd.read_sql(sql, connection)"
   ]
  }
 ],
 "metadata": {
  "kernelspec": {
   "display_name": "sql_env",
   "language": "python",
   "name": "python3"
  },
  "language_info": {
   "codemirror_mode": {
    "name": "ipython",
    "version": 3
   },
   "file_extension": ".py",
   "mimetype": "text/x-python",
   "name": "python",
   "nbconvert_exporter": "python",
   "pygments_lexer": "ipython3",
   "version": "3.11.2"
  }
 },
 "nbformat": 4,
 "nbformat_minor": 2
}
