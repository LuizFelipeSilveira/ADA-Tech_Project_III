{
 "cells": [
  {
   "cell_type": "code",
   "execution_count": 2,
   "metadata": {},
   "outputs": [],
   "source": [
    "import pymysql\n",
    "import pandas as pd\n",
    "\n",
    "import warnings"
   ]
  },
  {
   "cell_type": "code",
   "execution_count": 3,
   "metadata": {},
   "outputs": [],
   "source": [
    "warnings.filterwarnings('ignore')"
   ]
  },
  {
   "cell_type": "code",
   "execution_count": 8,
   "metadata": {},
   "outputs": [
    {
     "name": "stdout",
     "output_type": "stream",
     "text": [
      "Conexão feita com sucesso!\n"
     ]
    }
   ],
   "source": [
    "try:\n",
    "    connection = pymysql.connect(user='admin',\n",
    "                                host='database-1.cjocas8y2rhl.us-east-1.rds.amazonaws.com',\n",
    "                                port=3306,\n",
    "                                password='Uukkmskp1!#',\n",
    "                                database='grupo_05'\n",
    "                                )\n",
    "    print('Conexão feita com sucesso!')\n",
    "except Exception as erro:\n",
    "    print(f'Erro: {erro} - Falha na conexão')\n",
    "    \n",
    "cursor = connection.cursor()"
   ]
  },
  {
   "cell_type": "code",
   "execution_count": 5,
   "metadata": {},
   "outputs": [
    {
     "data": {
      "text/html": [
       "<div>\n",
       "<style scoped>\n",
       "    .dataframe tbody tr th:only-of-type {\n",
       "        vertical-align: middle;\n",
       "    }\n",
       "\n",
       "    .dataframe tbody tr th {\n",
       "        vertical-align: top;\n",
       "    }\n",
       "\n",
       "    .dataframe thead th {\n",
       "        text-align: right;\n",
       "    }\n",
       "</style>\n",
       "<table border=\"1\" class=\"dataframe\">\n",
       "  <thead>\n",
       "    <tr style=\"text-align: right;\">\n",
       "      <th></th>\n",
       "      <th>Nome</th>\n",
       "      <th>Numero</th>\n",
       "      <th>Endereco</th>\n",
       "    </tr>\n",
       "  </thead>\n",
       "  <tbody>\n",
       "    <tr>\n",
       "      <th>0</th>\n",
       "      <td>Marina Ribeiro</td>\n",
       "      <td>0900 145 8316</td>\n",
       "      <td>Estrada de Albuquerque, 3, Vila Nova Gameleira...</td>\n",
       "    </tr>\n",
       "    <tr>\n",
       "      <th>1</th>\n",
       "      <td>Maria Julia Caldeira</td>\n",
       "      <td>+55 81 0704-5986</td>\n",
       "      <td>Quadra Vieira, 53, Teixeira Dias, 38987482 Rez...</td>\n",
       "    </tr>\n",
       "    <tr>\n",
       "      <th>2</th>\n",
       "      <td>Maria Clara Campos</td>\n",
       "      <td>51 0650 6372</td>\n",
       "      <td>Esplanada Silveira, 74, Ouro Minas, 70469141 G...</td>\n",
       "    </tr>\n",
       "    <tr>\n",
       "      <th>3</th>\n",
       "      <td>Stephany Lopes</td>\n",
       "      <td>41 8023-9362</td>\n",
       "      <td>Via de Oliveira, 1, Aguas Claras, 53142-358 da...</td>\n",
       "    </tr>\n",
       "    <tr>\n",
       "      <th>4</th>\n",
       "      <td>Ana Lívia Souza</td>\n",
       "      <td>(051) 0318 9411</td>\n",
       "      <td>Vereda de Gomes, Ermelinda, 06286583 Alves / DF</td>\n",
       "    </tr>\n",
       "    <tr>\n",
       "      <th>...</th>\n",
       "      <td>...</td>\n",
       "      <td>...</td>\n",
       "      <td>...</td>\n",
       "    </tr>\n",
       "    <tr>\n",
       "      <th>145</th>\n",
       "      <td>Luiz Felipe Novais</td>\n",
       "      <td>+55 (071) 1955-2433</td>\n",
       "      <td>Aeroporto Pires, 61, Nossa Senhora Da Conceiçã...</td>\n",
       "    </tr>\n",
       "    <tr>\n",
       "      <th>146</th>\n",
       "      <td>Nicole Pires</td>\n",
       "      <td>(021) 8618 7061</td>\n",
       "      <td>Residencial Albuquerque, Vila Pinho, 24945841 ...</td>\n",
       "    </tr>\n",
       "    <tr>\n",
       "      <th>147</th>\n",
       "      <td>Maria Alice Garcia</td>\n",
       "      <td>41 7787-1865</td>\n",
       "      <td>Viaduto da Mota, 67, Anchieta, 38310-017 Fogaç...</td>\n",
       "    </tr>\n",
       "    <tr>\n",
       "      <th>148</th>\n",
       "      <td>Theodoro Barbosa</td>\n",
       "      <td>+55 (081) 7012-9506</td>\n",
       "      <td>Pátio João Vitor da Rosa, 48, Vila Minaslandia...</td>\n",
       "    </tr>\n",
       "    <tr>\n",
       "      <th>149</th>\n",
       "      <td>Cauê Carvalho</td>\n",
       "      <td>84 9382-9579</td>\n",
       "      <td>Passarela de Pereira, 82, Leonina, 38462287 Vi...</td>\n",
       "    </tr>\n",
       "  </tbody>\n",
       "</table>\n",
       "<p>150 rows × 3 columns</p>\n",
       "</div>"
      ],
      "text/plain": [
       "                     Nome               Numero  \\\n",
       "0          Marina Ribeiro        0900 145 8316   \n",
       "1    Maria Julia Caldeira     +55 81 0704-5986   \n",
       "2      Maria Clara Campos         51 0650 6372   \n",
       "3          Stephany Lopes         41 8023-9362   \n",
       "4         Ana Lívia Souza      (051) 0318 9411   \n",
       "..                    ...                  ...   \n",
       "145    Luiz Felipe Novais  +55 (071) 1955-2433   \n",
       "146          Nicole Pires      (021) 8618 7061   \n",
       "147    Maria Alice Garcia         41 7787-1865   \n",
       "148      Theodoro Barbosa  +55 (081) 7012-9506   \n",
       "149         Cauê Carvalho         84 9382-9579   \n",
       "\n",
       "                                              Endereco  \n",
       "0    Estrada de Albuquerque, 3, Vila Nova Gameleira...  \n",
       "1    Quadra Vieira, 53, Teixeira Dias, 38987482 Rez...  \n",
       "2    Esplanada Silveira, 74, Ouro Minas, 70469141 G...  \n",
       "3    Via de Oliveira, 1, Aguas Claras, 53142-358 da...  \n",
       "4      Vereda de Gomes, Ermelinda, 06286583 Alves / DF  \n",
       "..                                                 ...  \n",
       "145  Aeroporto Pires, 61, Nossa Senhora Da Conceiçã...  \n",
       "146  Residencial Albuquerque, Vila Pinho, 24945841 ...  \n",
       "147  Viaduto da Mota, 67, Anchieta, 38310-017 Fogaç...  \n",
       "148  Pátio João Vitor da Rosa, 48, Vila Minaslandia...  \n",
       "149  Passarela de Pereira, 82, Leonina, 38462287 Vi...  \n",
       "\n",
       "[150 rows x 3 columns]"
      ]
     },
     "execution_count": 5,
     "metadata": {},
     "output_type": "execute_result"
    }
   ],
   "source": [
    "df = pd.read_csv('../data/clientes_genericos.csv')  \n",
    "df = df[['Nome', 'Numero', 'Endereco']]\n",
    "\n",
    "df"
   ]
  },
  {
   "cell_type": "code",
   "execution_count": null,
   "metadata": {},
   "outputs": [],
   "source": [
    "for index, row in df.iterrows():\n",
    "    query_insert = \"\"\"\n",
    "        INSERT INTO clientes (nome_cliente, telefone_cliente, endereco_cliente) \n",
    "        VALUES (%s, %s, %s)\n",
    "    \"\"\"\n",
    "    values = (row['Nome'], row['Numero'], row['Endereco'])\n",
    "\n",
    "    cursor.execute(query_insert, values)\n",
    "\n",
    "connection.commit()"
   ]
  },
  {
   "cell_type": "code",
   "execution_count": 28,
   "metadata": {},
   "outputs": [],
   "source": [
    "query = '''\n",
    "    INSERT INTO produtos (nome_produto, descricao_produto) \n",
    "    VALUES\n",
    "    (\"Credito\", \"Ferramenta que permite que indivíduos e empresas obtenham dinheiro emprestado para atender a necessidades financeiras imediatas\"),\n",
    "    (\"Investimento\", \"Qualquer valor capaz de gerar um lucro, seja em um período de curto, médio ou longo prazo\"),\n",
    "    (\"Seguros\", \"Sao aqueles bens, especificados na apolice, para os quais a seguradora não indenizara os prejuízos, ainda que oriundos de riscos cobertos\")\n",
    "'''\n",
    "\n",
    "cursor.execute(query)\n",
    "connection.commit()"
   ]
  },
  {
   "cell_type": "code",
   "execution_count": 16,
   "metadata": {},
   "outputs": [],
   "source": [
    "query = '''\n",
    "    INSERT INTO diretoria (nome_diretor, email_diretor) \n",
    "    VALUES \n",
    "    (\"João da Silva\", \"joao@dasilva.com.br\"),\n",
    "    (\"Maria da Silva\", \"maria@dasilva.com.br\"),\n",
    "    (\"Julio da Silva\", \"julio@dasilva.com.br\")\n",
    "'''\n",
    "\n",
    "cursor.execute(query)\n",
    "connection.commit()"
   ]
  },
  {
   "cell_type": "code",
   "execution_count": null,
   "metadata": {},
   "outputs": [],
   "source": [
    "query = '''\n",
    "    INSERT INTO tipo_cliente (tipo_cliente) \n",
    "    VALUES \n",
    "    (\"Digital\"),\n",
    "    (\"Alta Renda\"),\n",
    "    (\"Private\")\n",
    "'''\n",
    "\n",
    "cursor.execute(query)\n",
    "connection.commit()"
   ]
  },
  {
   "cell_type": "code",
   "execution_count": 19,
   "metadata": {},
   "outputs": [],
   "source": [
    "query = '''\n",
    "    INSERT INTO tipo_produto (tipo_produto)\n",
    "    VALUES\n",
    "    (\"Com lastro financeiro\"),\n",
    "    (\"Sem lastro financeiro\")\n",
    "'''\n",
    "\n",
    "cursor.execute(query)\n",
    "connection.commit()"
   ]
  },
  {
   "cell_type": "code",
   "execution_count": 9,
   "metadata": {},
   "outputs": [
    {
     "data": {
      "text/html": [
       "<div>\n",
       "<style scoped>\n",
       "    .dataframe tbody tr th:only-of-type {\n",
       "        vertical-align: middle;\n",
       "    }\n",
       "\n",
       "    .dataframe tbody tr th {\n",
       "        vertical-align: top;\n",
       "    }\n",
       "\n",
       "    .dataframe thead th {\n",
       "        text-align: right;\n",
       "    }\n",
       "</style>\n",
       "<table border=\"1\" class=\"dataframe\">\n",
       "  <thead>\n",
       "    <tr style=\"text-align: right;\">\n",
       "      <th></th>\n",
       "      <th>cod_produto</th>\n",
       "      <th>nome_produto</th>\n",
       "      <th>descricao_produto</th>\n",
       "      <th>cod_tipo_produto</th>\n",
       "    </tr>\n",
       "  </thead>\n",
       "  <tbody>\n",
       "    <tr>\n",
       "      <th>0</th>\n",
       "      <td>1</td>\n",
       "      <td>Credito</td>\n",
       "      <td>Ferramenta que permite que indivíduos e empres...</td>\n",
       "      <td>None</td>\n",
       "    </tr>\n",
       "    <tr>\n",
       "      <th>1</th>\n",
       "      <td>2</td>\n",
       "      <td>Investimento</td>\n",
       "      <td>Qualquer valor capaz de gerar um lucro, seja e...</td>\n",
       "      <td>None</td>\n",
       "    </tr>\n",
       "    <tr>\n",
       "      <th>2</th>\n",
       "      <td>3</td>\n",
       "      <td>Seguros</td>\n",
       "      <td>Sao aqueles bens, especificados na apolice, pa...</td>\n",
       "      <td>None</td>\n",
       "    </tr>\n",
       "    <tr>\n",
       "      <th>3</th>\n",
       "      <td>7</td>\n",
       "      <td>Credito</td>\n",
       "      <td>Ferramenta que permite que indivíduos e empres...</td>\n",
       "      <td>None</td>\n",
       "    </tr>\n",
       "    <tr>\n",
       "      <th>4</th>\n",
       "      <td>8</td>\n",
       "      <td>Investimento</td>\n",
       "      <td>Qualquer valor capaz de gerar um lucro, seja e...</td>\n",
       "      <td>None</td>\n",
       "    </tr>\n",
       "    <tr>\n",
       "      <th>5</th>\n",
       "      <td>9</td>\n",
       "      <td>Seguros</td>\n",
       "      <td>Sao aqueles bens, especificados na apolice, pa...</td>\n",
       "      <td>None</td>\n",
       "    </tr>\n",
       "  </tbody>\n",
       "</table>\n",
       "</div>"
      ],
      "text/plain": [
       "   cod_produto  nome_produto  \\\n",
       "0            1       Credito   \n",
       "1            2  Investimento   \n",
       "2            3       Seguros   \n",
       "3            7       Credito   \n",
       "4            8  Investimento   \n",
       "5            9       Seguros   \n",
       "\n",
       "                                   descricao_produto cod_tipo_produto  \n",
       "0  Ferramenta que permite que indivíduos e empres...             None  \n",
       "1  Qualquer valor capaz de gerar um lucro, seja e...             None  \n",
       "2  Sao aqueles bens, especificados na apolice, pa...             None  \n",
       "3  Ferramenta que permite que indivíduos e empres...             None  \n",
       "4  Qualquer valor capaz de gerar um lucro, seja e...             None  \n",
       "5  Sao aqueles bens, especificados na apolice, pa...             None  "
      ]
     },
     "execution_count": 9,
     "metadata": {},
     "output_type": "execute_result"
    }
   ],
   "source": [
    "query = ''' \n",
    "    SELECT * FROM produtos\n",
    "'''\n",
    "\n",
    "pd.read_sql(query, connection)"
   ]
  },
  {
   "cell_type": "code",
   "execution_count": 10,
   "metadata": {},
   "outputs": [
    {
     "data": {
      "text/plain": [
       "<bound method Connection.commit of <pymysql.connections.Connection object at 0x7f230872d490>>"
      ]
     },
     "execution_count": 10,
     "metadata": {},
     "output_type": "execute_result"
    }
   ],
   "source": [
    "query = ''' \n",
    "    DELETE FROM produtos\n",
    "    WHERE cod_produto = 7 OR cod_produto = 8 OR cod_produto = 9\n",
    "'''\n",
    "\n",
    "cursor.execute(query)\n",
    "connection.commit"
   ]
  },
  {
   "cell_type": "code",
   "execution_count": 11,
   "metadata": {},
   "outputs": [
    {
     "data": {
      "text/html": [
       "<div>\n",
       "<style scoped>\n",
       "    .dataframe tbody tr th:only-of-type {\n",
       "        vertical-align: middle;\n",
       "    }\n",
       "\n",
       "    .dataframe tbody tr th {\n",
       "        vertical-align: top;\n",
       "    }\n",
       "\n",
       "    .dataframe thead th {\n",
       "        text-align: right;\n",
       "    }\n",
       "</style>\n",
       "<table border=\"1\" class=\"dataframe\">\n",
       "  <thead>\n",
       "    <tr style=\"text-align: right;\">\n",
       "      <th></th>\n",
       "      <th>log_id</th>\n",
       "      <th>tabela_afetada</th>\n",
       "      <th>acao</th>\n",
       "      <th>usuario</th>\n",
       "      <th>descricao</th>\n",
       "      <th>data_acao</th>\n",
       "    </tr>\n",
       "  </thead>\n",
       "  <tbody>\n",
       "    <tr>\n",
       "      <th>0</th>\n",
       "      <td>38</td>\n",
       "      <td>produtos</td>\n",
       "      <td>DELETE</td>\n",
       "      <td>admin@177.37.152.34</td>\n",
       "      <td>Produto excluído</td>\n",
       "      <td>2024-09-28 02:25:22</td>\n",
       "    </tr>\n",
       "    <tr>\n",
       "      <th>1</th>\n",
       "      <td>39</td>\n",
       "      <td>produtos</td>\n",
       "      <td>DELETE</td>\n",
       "      <td>admin@177.37.152.34</td>\n",
       "      <td>Produto excluído</td>\n",
       "      <td>2024-09-28 02:25:22</td>\n",
       "    </tr>\n",
       "    <tr>\n",
       "      <th>2</th>\n",
       "      <td>40</td>\n",
       "      <td>produtos</td>\n",
       "      <td>DELETE</td>\n",
       "      <td>admin@177.37.152.34</td>\n",
       "      <td>Produto excluído</td>\n",
       "      <td>2024-09-28 02:25:22</td>\n",
       "    </tr>\n",
       "  </tbody>\n",
       "</table>\n",
       "</div>"
      ],
      "text/plain": [
       "   log_id tabela_afetada    acao              usuario         descricao  \\\n",
       "0      38       produtos  DELETE  admin@177.37.152.34  Produto excluído   \n",
       "1      39       produtos  DELETE  admin@177.37.152.34  Produto excluído   \n",
       "2      40       produtos  DELETE  admin@177.37.152.34  Produto excluído   \n",
       "\n",
       "            data_acao  \n",
       "0 2024-09-28 02:25:22  \n",
       "1 2024-09-28 02:25:22  \n",
       "2 2024-09-28 02:25:22  "
      ]
     },
     "execution_count": 11,
     "metadata": {},
     "output_type": "execute_result"
    }
   ],
   "source": [
    "query = ''' \n",
    "    SELECT * FROM logs\n",
    "'''\n",
    "\n",
    "pd.read_sql(query, connection)"
   ]
  },
  {
   "cell_type": "code",
   "execution_count": 12,
   "metadata": {},
   "outputs": [],
   "source": [
    "connection.close()"
   ]
  }
 ],
 "metadata": {
  "kernelspec": {
   "display_name": "sql_env",
   "language": "python",
   "name": "python3"
  },
  "language_info": {
   "codemirror_mode": {
    "name": "ipython",
    "version": 3
   },
   "file_extension": ".py",
   "mimetype": "text/x-python",
   "name": "python",
   "nbconvert_exporter": "python",
   "pygments_lexer": "ipython3",
   "version": "3.11.2"
  }
 },
 "nbformat": 4,
 "nbformat_minor": 2
}
